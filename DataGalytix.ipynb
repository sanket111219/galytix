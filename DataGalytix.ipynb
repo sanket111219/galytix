{
  "nbformat": 4,
  "nbformat_minor": 0,
  "metadata": {
    "colab": {
      "provenance": [],
      "mount_file_id": "1M3ewHquxg6cpBNFk0Vo-QmyhS172eZqH",
      "authorship_tag": "ABX9TyMS9Sr1Tp5N6S2Yk7549LtK",
      "include_colab_link": true
    },
    "kernelspec": {
      "name": "python3",
      "display_name": "Python 3"
    },
    "language_info": {
      "name": "python"
    }
  },
  "cells": [
    {
      "cell_type": "markdown",
      "metadata": {
        "id": "view-in-github",
        "colab_type": "text"
      },
      "source": [
        "<a href=\"https://colab.research.google.com/github/sanket111219/galytix/blob/main/DataGalytix.ipynb\" target=\"_parent\"><img src=\"https://colab.research.google.com/assets/colab-badge.svg\" alt=\"Open In Colab\"/></a>"
      ]
    },
    {
      "cell_type": "code",
      "execution_count": null,
      "metadata": {
        "id": "3cawOAyeIGcx"
      },
      "outputs": [],
      "source": []
    },
    {
      "cell_type": "code",
      "source": [
        "from google.colab import drive\n",
        "drive.mount('/content/drive')"
      ],
      "metadata": {
        "colab": {
          "base_uri": "https://localhost:8080/"
        },
        "id": "ZI0FzecfILfl",
        "outputId": "b3b6ada9-75d3-4ca7-aeb0-fead1e2c364f"
      },
      "execution_count": 1,
      "outputs": [
        {
          "output_type": "stream",
          "name": "stdout",
          "text": [
            "Drive already mounted at /content/drive; to attempt to forcibly remount, call drive.mount(\"/content/drive\", force_remount=True).\n"
          ]
        }
      ]
    },
    {
      "cell_type": "code",
      "source": [
        "path_x=\"/content/drive/MyDrive/GoogleNews-vectors-negative300.bin.gz\""
      ],
      "metadata": {
        "id": "K4ulyt2LI_JM"
      },
      "execution_count": 2,
      "outputs": []
    },
    {
      "cell_type": "code",
      "source": [
        "import gensim\n",
        "from gensim.models import KeyedVectors\n",
        "wv = KeyedVectors.load_word2vec_format(path_x, binary=True, limit=1000000)\n",
        "wv.save_word2vec_format('vectors.csv')"
      ],
      "metadata": {
        "id": "gDjaYLDhJe3e"
      },
      "execution_count": 3,
      "outputs": []
    },
    {
      "cell_type": "code",
      "source": [
        "import pandas as pd\n",
        "\n",
        "\n",
        "phrases_df = pd.read_csv('/content/drive/MyDrive/DE assessment/phrases.csv', encoding= 'unicode_escape')\n",
        "\n",
        "\n",
        "def get_phrase_embeddings(phrase, wv):\n",
        "    tokens = phrase.split()\n",
        "    phrase_vec = [wv[word] for word in tokens if word in wv.key_to_index]\n",
        "    return phrase_vec\n",
        "\n",
        "\n",
        "phrases_df['embeddings'] = phrases_df['Phrases'].apply(lambda x: get_phrase_embeddings(x, wv))\n"
      ],
      "metadata": {
        "id": "zONUTLMXKmS7"
      },
      "execution_count": 7,
      "outputs": []
    },
    {
      "cell_type": "code",
      "source": [
        "from sklearn.metrics.pairwise import cosine_similarity\n",
        "import numpy as np\n",
        "\n",
        "\n",
        "def calculate_similarity_matrix(phrases_df):\n",
        "    embeddings = phrases_df['embeddings'].values\n",
        "    num_phrases = len(embeddings)\n",
        "    similarity_matrix = np.zeros((num_phrases, num_phrases))\n",
        "\n",
        "    for i in range(num_phrases):\n",
        "        for j in range(num_phrases):\n",
        "            if i == j:\n",
        "                similarity_matrix[i, j] = 1.0\n",
        "            else:\n",
        "                if embeddings[i] and embeddings[j]:\n",
        "                    similarity_matrix[i, j] = cosine_similarity(embeddings[i], embeddings[j])[0][0]\n",
        "\n",
        "    return similarity_matrix\n",
        "\n",
        "\n",
        "similarity_matrix = calculate_similarity_matrix(phrases_df)\n",
        "\n",
        "\n"
      ],
      "metadata": {
        "id": "ByyjCuJXLAwd"
      },
      "execution_count": 8,
      "outputs": []
    },
    {
      "cell_type": "code",
      "source": [
        "def find_closest_match(user_input, phrases_df):\n",
        "    user_input_embedding = get_phrase_embeddings(user_input, wv)\n",
        "\n",
        "    if user_input_embedding:\n",
        "        similarities = []\n",
        "        for phrase, embeddings in zip(phrases_df['Phrases'], phrases_df['embeddings']):\n",
        "            if embeddings:\n",
        "                similarity = cosine_similarity(user_input_embedding, embeddings)[0][0]\n",
        "                similarities.append((phrase, similarity))\n",
        "\n",
        "        closest_match = max(similarities, key=lambda x: x[1])\n",
        "        return closest_match\n",
        "    else:\n",
        "        return \"No valid embeddings found for the input phrase.\"\n",
        "\n",
        "\n",
        "user_input_phrase = \"How many passengers were there in titanic\"\n",
        "closest_match = find_closest_match(user_input_phrase, phrases_df)\n",
        "print(\"Closest Match:\", closest_match[0])\n",
        "print(\"Cosine Similarity:\", closest_match[1])\n"
      ],
      "metadata": {
        "colab": {
          "base_uri": "https://localhost:8080/"
        },
        "id": "CA_7l4W2LLip",
        "outputId": "3b644a54-2eaa-493d-9e63-7ca4b6c96980"
      },
      "execution_count": 10,
      "outputs": [
        {
          "output_type": "stream",
          "name": "stdout",
          "text": [
            "Closest Match: How is the airline industry performing globally?\n",
            "Cosine Similarity: 1.0000002\n"
          ]
        }
      ]
    }
  ]
}